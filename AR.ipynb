{
 "cells": [
  {
   "cell_type": "code",
   "execution_count": null,
   "metadata": {},
   "outputs": [],
   "source": [
    "import numpy as np\r\n",
    "import pandas as pd\r\n",
    "import pathlib\r\n",
    "import tensorflow as tf\r\n",
    "import seaborn as sns\r\n",
    "\r\n",
    "from matplotlib import pyplot as plt\r\n",
    "%matplotlib inline\r\n",
    "from sklearn.model_selection import train_test_split\r\n",
    "from sklearn import metrics\r\n",
    "\r\n",
    "from LPdata import read_label_data\r\n",
    "from MLP import MLP\r\n"
   ]
  },
  {
   "cell_type": "code",
   "execution_count": null,
   "metadata": {},
   "outputs": [],
   "source": [
    "# Load data for neuron network\r\n",
    "dataFileName = 'raw.csv'\r\n",
    "dataFilePath = pathlib.Path.cwd().joinpath('demo_data', f'{dataFileName}')\r\n",
    "segFileName = 'seg_point.csv'\r\n",
    "segFilePath = pathlib.Path.cwd().joinpath('demo_data', f'{segFileName}')\r\n",
    "# Extract data and get label of each row\r\n",
    "data = read_label_data(dataFilePath, segFilePath)"
   ]
  },
  {
   "cell_type": "code",
   "execution_count": null,
   "metadata": {},
   "outputs": [],
   "source": [
    "def normalise(n, maxNum, minNum):\r\n",
    "    return (n - minNum) / (maxNum - minNum)\r\n",
    "# Normalise data\r\n",
    "for col in range(data.shape[1]):\r\n",
    "    if col != (data.shape[1] - 1):\r\n",
    "        maxNum = np.max(data.iloc[:, col])\r\n",
    "        minNum = np.min(data.iloc[:, col])\r\n",
    "        data.iloc[:, col] = data.iloc[:, col].apply(normalise, args=(maxNum, minNum,))"
   ]
  },
  {
   "cell_type": "code",
   "execution_count": null,
   "metadata": {},
   "outputs": [],
   "source": [
    "# Randomise data\r\n",
    "data = data.sample(frac=1)\r\n",
    "# Split data into training set and testing set\r\n",
    "train, test = train_test_split(data, test_size=0.1)\r\n",
    "trainData, trainLabel = train.drop(columns='LABEL').values, train['LABEL'].values\r\n",
    "testData, testLabel = test.drop(columns='LABEL').values, test['LABEL'].values"
   ]
  },
  {
   "cell_type": "code",
   "execution_count": null,
   "metadata": {},
   "outputs": [],
   "source": [
    "# Hyper-parameters\r\n",
    "EPOCHS = 50\r\n",
    "BATCH_SIZE = 400\r\n",
    "# Build MLP\r\n",
    "model = MLP()\r\n",
    "model.compile(optimizer='adam', loss='sparse_categorical_crossentropy', metrics=['accuracy'])\r\n",
    "history = model.fit(trainData, trainLabel, batch_size=BATCH_SIZE, epochs=EPOCHS, validation_split=0.2, verbose=1)"
   ]
  },
  {
   "cell_type": "code",
   "execution_count": null,
   "metadata": {},
   "outputs": [],
   "source": [
    "# plot using ggplot style\r\n",
    "plt.style.use('ggplot')\r\n",
    "# plot loss of MLP during training step\r\n",
    "plt.figure(figsize=(6, 4))\r\n",
    "plt.plot(history.history['accuracy'], 'r', label='Accuracy of training data')\r\n",
    "plt.plot(history.history['val_accuracy'], 'b', label='Accuracy of validation data')\r\n",
    "plt.plot(history.history['loss'], 'r--', label='Loss of training data')\r\n",
    "plt.plot(history.history['val_loss'], 'b--', label='Loss of validation data')\r\n",
    "plt.title('Model Accuracy and Loss')\r\n",
    "plt.ylabel('Accuracy and Loss')\r\n",
    "plt.xlabel('Training Epoch')\r\n",
    "plt.ylim(0)\r\n",
    "plt.legend()\r\n",
    "plt.show()"
   ]
  },
  {
   "cell_type": "code",
   "execution_count": null,
   "metadata": {},
   "outputs": [],
   "source": [
    "# Test model\r\n",
    "testPred = model.predict(testData)\r\n",
    "# Take the class with the highest probability from the test predictions\r\n",
    "testPredMax = np.argmax(testPred, axis=1)\r\n",
    "LABELS = ['NONE', 'SLR-R', 'SLR-L', 'SAE-R', 'SAE-L', 'KE-R', 'KE-L']\r\n",
    "# Show confusion matrix\r\n",
    "matrix = metrics.confusion_matrix(testLabel, testPredMax)\r\n",
    "plt.figure(figsize=(6, 4))\r\n",
    "sns.heatmap(matrix,\r\n",
    "            cmap='coolwarm',\r\n",
    "            linecolor='white',\r\n",
    "            linewidths=1,\r\n",
    "            xticklabels=LABELS,\r\n",
    "            yticklabels=LABELS,\r\n",
    "            annot=True,\r\n",
    "            fmt='d')\r\n",
    "plt.title('Confusion Matrix')\r\n",
    "plt.ylabel('True Label')\r\n",
    "plt.xlabel('Predicted Label')\r\n",
    "plt.show()"
   ]
  }
 ],
 "metadata": {
  "kernelspec": {
   "display_name": "Python 3.7.10 64-bit ('tf2': conda)",
   "name": "python3710jvsc74a57bd071f121a9ff0e92d93bfe9fd0dc9952743667b391c5ee39c000a37b817ef4e0ec"
  },
  "language_info": {
   "codemirror_mode": {
    "name": "ipython",
    "version": 3
   },
   "file_extension": ".py",
   "mimetype": "text/x-python",
   "name": "python",
   "nbconvert_exporter": "python",
   "pygments_lexer": "ipython3",
   "version": "3.7.10"
  },
  "orig_nbformat": 2
 },
 "nbformat": 4,
 "nbformat_minor": 2
}