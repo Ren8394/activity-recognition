{
 "cells": [
  {
   "cell_type": "code",
   "execution_count": 1,
   "metadata": {},
   "outputs": [],
   "source": [
    "import numpy as np\r\n",
    "import pandas as pd\r\n",
    "import pathlib\r\n",
    "import tensorflow as tf\r\n",
    "\r\n",
    "from sklearn.model_selection import train_test_split\r\n",
    "\r\n",
    "from LPdata import read_label_data\r\n",
    "from MLP import MLP\r\n"
   ]
  },
  {
   "cell_type": "code",
   "execution_count": 2,
   "metadata": {},
   "outputs": [
    {
     "name": "stderr",
     "output_type": "stream",
     "text": [
      "d:\\Projects\\activity_recognition\\LPdata.py:48: SettingWithCopyWarning: \n",
      "A value is trying to be set on a copy of a slice from a DataFrame.\n",
      "Try using .loc[row_indexer,col_indexer] = value instead\n",
      "\n",
      "See the caveats in the documentation: https://pandas.pydata.org/pandas-docs/stable/user_guide/indexing.html#returning-a-view-versus-a-copy\n",
      "  selectData['LABEL'] = labels\n"
     ]
    }
   ],
   "source": [
    "# Load data for neuron network\r\n",
    "dataFileName = 'raw.csv'\r\n",
    "dataFilePath = pathlib.Path.cwd().joinpath('demo_data', f'{dataFileName}')\r\n",
    "segFileName = 'seg_point.csv'\r\n",
    "segFilePath = pathlib.Path.cwd().joinpath('demo_data', f'{segFileName}')\r\n",
    "# Extract data and get label of each row\r\n",
    "data = read_label_data(dataFilePath, segFilePath)"
   ]
  },
  {
   "cell_type": "code",
   "execution_count": 3,
   "metadata": {},
   "outputs": [],
   "source": [
    "def normalise(n, maxNum, minNum):\r\n",
    "    return (n - minNum) / (maxNum - minNum)\r\n",
    "# Normalise data\r\n",
    "for col in range(data.shape[1]):\r\n",
    "    if col != (data.shape[1] - 1):\r\n",
    "        maxNum = np.max(data.iloc[:, col])\r\n",
    "        minNum = np.min(data.iloc[:, col])\r\n",
    "        data.iloc[:, col] = data.iloc[:, col].apply(normalise, args=(maxNum, minNum,))"
   ]
  },
  {
   "cell_type": "code",
   "execution_count": 4,
   "metadata": {},
   "outputs": [],
   "source": [
    "# Randomise data\r\n",
    "data = data.sample(frac=1)\r\n",
    "# Split data into training set and testing set\r\n",
    "train, test = train_test_split(data, test_size=0.1)\r\n",
    "trainData, trainLabel = train.drop(columns='LABEL').values, train['LABEL'].values\r\n",
    "testData, testLabel = test.drop(columns='LABEL').values, test['LABEL'].values"
   ]
  },
  {
   "cell_type": "code",
   "execution_count": 5,
   "metadata": {},
   "outputs": [
    {
     "name": "stdout",
     "output_type": "stream",
     "text": [
      "Epoch 1/50\n",
      "524/524 [==============================] - 2s 2ms/step - loss: 1.1657 - accuracy: 0.5292\n",
      "Epoch 2/50\n",
      "524/524 [==============================] - 1s 2ms/step - loss: 0.3922 - accuracy: 0.8556\n",
      "Epoch 3/50\n",
      "524/524 [==============================] - 1s 2ms/step - loss: 0.2864 - accuracy: 0.8981\n",
      "Epoch 4/50\n",
      "524/524 [==============================] - 1s 2ms/step - loss: 0.2342 - accuracy: 0.9188\n",
      "Epoch 5/50\n",
      "524/524 [==============================] - 1s 2ms/step - loss: 0.2045 - accuracy: 0.9274\n",
      "Epoch 6/50\n",
      "524/524 [==============================] - 1s 2ms/step - loss: 0.1926 - accuracy: 0.9309\n",
      "Epoch 7/50\n",
      "524/524 [==============================] - 1s 2ms/step - loss: 0.1838 - accuracy: 0.9346\n",
      "Epoch 8/50\n",
      "524/524 [==============================] - 1s 2ms/step - loss: 0.1672 - accuracy: 0.9411\n",
      "Epoch 9/50\n",
      "524/524 [==============================] - 1s 2ms/step - loss: 0.1592 - accuracy: 0.9436\n",
      "Epoch 10/50\n",
      "524/524 [==============================] - 1s 2ms/step - loss: 0.1587 - accuracy: 0.9448\n",
      "Epoch 11/50\n",
      "524/524 [==============================] - 1s 2ms/step - loss: 0.1434 - accuracy: 0.9516\n",
      "Epoch 12/50\n",
      "524/524 [==============================] - 1s 2ms/step - loss: 0.1407 - accuracy: 0.9504\n",
      "Epoch 13/50\n",
      "524/524 [==============================] - 1s 2ms/step - loss: 0.1459 - accuracy: 0.9492\n",
      "Epoch 14/50\n",
      "524/524 [==============================] - 1s 3ms/step - loss: 0.1299 - accuracy: 0.9554\n",
      "Epoch 15/50\n",
      "524/524 [==============================] - 1s 3ms/step - loss: 0.1319 - accuracy: 0.9543\n",
      "Epoch 16/50\n",
      "524/524 [==============================] - 1s 2ms/step - loss: 0.1230 - accuracy: 0.9578\n",
      "Epoch 17/50\n",
      "524/524 [==============================] - 1s 2ms/step - loss: 0.1321 - accuracy: 0.9548\n",
      "Epoch 18/50\n",
      "524/524 [==============================] - 1s 2ms/step - loss: 0.1199 - accuracy: 0.9590\n",
      "Epoch 19/50\n",
      "524/524 [==============================] - 1s 2ms/step - loss: 0.1215 - accuracy: 0.9576\n",
      "Epoch 20/50\n",
      "524/524 [==============================] - 1s 2ms/step - loss: 0.1166 - accuracy: 0.9600\n",
      "Epoch 21/50\n",
      "524/524 [==============================] - 1s 2ms/step - loss: 0.1169 - accuracy: 0.9609\n",
      "Epoch 22/50\n",
      "524/524 [==============================] - 1s 2ms/step - loss: 0.1263 - accuracy: 0.9578\n",
      "Epoch 23/50\n",
      "524/524 [==============================] - 1s 2ms/step - loss: 0.1066 - accuracy: 0.9641\n",
      "Epoch 24/50\n",
      "524/524 [==============================] - 1s 2ms/step - loss: 0.1041 - accuracy: 0.9650\n",
      "Epoch 25/50\n",
      "524/524 [==============================] - 1s 2ms/step - loss: 0.1073 - accuracy: 0.9637\n",
      "Epoch 26/50\n",
      "524/524 [==============================] - 1s 2ms/step - loss: 0.1088 - accuracy: 0.9635\n",
      "Epoch 27/50\n",
      "524/524 [==============================] - 1s 3ms/step - loss: 0.1068 - accuracy: 0.9644\n",
      "Epoch 28/50\n",
      "524/524 [==============================] - 1s 2ms/step - loss: 0.1147 - accuracy: 0.9618\n",
      "Epoch 29/50\n",
      "524/524 [==============================] - 1s 2ms/step - loss: 0.0984 - accuracy: 0.9672\n",
      "Epoch 30/50\n",
      "524/524 [==============================] - 1s 2ms/step - loss: 0.0950 - accuracy: 0.9684\n",
      "Epoch 31/50\n",
      "524/524 [==============================] - 1s 3ms/step - loss: 0.0976 - accuracy: 0.9678\n",
      "Epoch 32/50\n",
      "524/524 [==============================] - 1s 2ms/step - loss: 0.0999 - accuracy: 0.9671\n",
      "Epoch 33/50\n",
      "524/524 [==============================] - 1s 3ms/step - loss: 0.0971 - accuracy: 0.9675\n",
      "Epoch 34/50\n",
      "524/524 [==============================] - 1s 2ms/step - loss: 0.1084 - accuracy: 0.9637\n",
      "Epoch 35/50\n",
      "524/524 [==============================] - 1s 2ms/step - loss: 0.0910 - accuracy: 0.9693\n",
      "Epoch 36/50\n",
      "524/524 [==============================] - 1s 2ms/step - loss: 0.0954 - accuracy: 0.9674\n",
      "Epoch 37/50\n",
      "524/524 [==============================] - 1s 2ms/step - loss: 0.0925 - accuracy: 0.9690\n",
      "Epoch 38/50\n",
      "524/524 [==============================] - 1s 2ms/step - loss: 0.0922 - accuracy: 0.9689\n",
      "Epoch 39/50\n",
      "524/524 [==============================] - 1s 2ms/step - loss: 0.0990 - accuracy: 0.9663\n",
      "Epoch 40/50\n",
      "524/524 [==============================] - 1s 2ms/step - loss: 0.0910 - accuracy: 0.9700\n",
      "Epoch 41/50\n",
      "524/524 [==============================] - 1s 2ms/step - loss: 0.0899 - accuracy: 0.9700\n",
      "Epoch 42/50\n",
      "524/524 [==============================] - 1s 2ms/step - loss: 0.0849 - accuracy: 0.9720\n",
      "Epoch 43/50\n",
      "524/524 [==============================] - 1s 2ms/step - loss: 0.0986 - accuracy: 0.9684\n",
      "Epoch 44/50\n",
      "524/524 [==============================] - 1s 2ms/step - loss: 0.0930 - accuracy: 0.9689\n",
      "Epoch 45/50\n",
      "524/524 [==============================] - 1s 2ms/step - loss: 0.0829 - accuracy: 0.9718\n",
      "Epoch 46/50\n",
      "524/524 [==============================] - 1s 3ms/step - loss: 0.0870 - accuracy: 0.9711\n",
      "Epoch 47/50\n",
      "524/524 [==============================] - 1s 3ms/step - loss: 0.0885 - accuracy: 0.9704\n",
      "Epoch 48/50\n",
      "524/524 [==============================] - 1s 2ms/step - loss: 0.0858 - accuracy: 0.9714\n",
      "Epoch 49/50\n",
      "524/524 [==============================] - 1s 3ms/step - loss: 0.0816 - accuracy: 0.9731\n",
      "Epoch 50/50\n",
      "524/524 [==============================] - 1s 2ms/step - loss: 0.0813 - accuracy: 0.9734\n"
     ]
    },
    {
     "data": {
      "text/plain": "<tensorflow.python.keras.callbacks.History at 0x25804f73248>"
     },
     "execution_count": 5,
     "metadata": {},
     "output_type": "execute_result"
    }
   ],
   "source": [
    "# Hyper-parameters\r\n",
    "EPOCHS = 50\r\n",
    "BATCH_SIZE = 400\r\n",
    "# Build MLP\r\n",
    "model = MLP()\r\n",
    "model.compile(optimizer='adam', loss='sparse_categorical_crossentropy', metrics=['accuracy'])\r\n",
    "history = model.fit(trainData, trainLabel, batch_size=BATCH_SIZE, epochs=EPOCHS, verbose=1)"
   ]
  },
  {
   "cell_type": "code",
   "execution_count": 6,
   "metadata": {},
   "outputs": [
    {
     "name": "stdout",
     "output_type": "stream",
     "text": [
      "728/728 - 1s - loss: 0.0694 - accuracy: 0.9764\n",
      "\n",
      "Test accuracy: 0.9764205813407898\n"
     ]
    }
   ],
   "source": [
    "test_loss, test_acc = model.evaluate(testData, testLabel, verbose=2)\r\n",
    "print('\\nTest accuracy:', test_acc)"
   ]
  }
 ],
 "metadata": {
  "kernelspec": {
   "display_name": "Python 3.7.10 64-bit ('tf2': conda)",
   "name": "python3710jvsc74a57bd071f121a9ff0e92d93bfe9fd0dc9952743667b391c5ee39c000a37b817ef4e0ec"
  },
  "language_info": {
   "codemirror_mode": {
    "name": "ipython",
    "version": 3
   },
   "file_extension": ".py",
   "mimetype": "text/x-python",
   "name": "python",
   "nbconvert_exporter": "python",
   "pygments_lexer": "ipython3",
   "version": "3.7.10"
  },
  "orig_nbformat": 2
 },
 "nbformat": 4,
 "nbformat_minor": 2
}